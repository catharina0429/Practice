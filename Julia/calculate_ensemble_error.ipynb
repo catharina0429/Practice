{
 "cells": [
  {
   "cell_type": "code",
   "execution_count": 17,
   "metadata": {},
   "outputs": [
    {
     "data": {
      "text/plain": [
       "ensemble_error (generic function with 1 method)"
      ]
     },
     "metadata": {},
     "output_type": "display_data"
    }
   ],
   "source": [
    "function ensemble_error(n_classifier, error)\n",
    "    k_start = Int(ceil(n_classifier/2))\n",
    "    probs = [binomial(n_classifier, k) * error^k * (1 - error)^(n_classifier - k)\n",
    "        for k = k_start:(n_classifier+1)]\n",
    "    return sum(probs)\n",
    "end\n"
   ]
  },
  {
   "cell_type": "code",
   "execution_count": 19,
   "metadata": {},
   "outputs": [
    {
     "data": {
      "text/plain": [
       "0.03432750701904297"
      ]
     },
     "metadata": {},
     "output_type": "display_data"
    }
   ],
   "source": [
    "ensemble_error(11, 0.25)"
   ]
  },
  {
   "cell_type": "code",
   "execution_count": 39,
   "metadata": {},
   "outputs": [
    {
     "data": {
      "text/plain": [
       "11-element Vector{Float64}:\n",
       "   0.0\n",
       "   0.0002957060800000002\n",
       "   0.01165420544000001\n",
       "   0.07822479095999994\n",
       "   0.24650186752000006\n",
       "   0.5\n",
       "   0.7534981324799999\n",
       "   0.92177520904\n",
       "   0.98834579456\n",
       "   0.99970429392\n",
       " NaN"
      ]
     },
     "metadata": {},
     "output_type": "display_data"
    }
   ],
   "source": [
    "error_range = range(; start = 0.0, stop = 1.01, step = 0.1)\n",
    "ens_errors = [ensemble_error(11, error) for error in error_range]"
   ]
  }
 ],
 "metadata": {
  "kernelspec": {
   "display_name": "Julia 1.8.2",
   "language": "julia",
   "name": "julia-1.8"
  },
  "language_info": {
   "file_extension": ".jl",
   "mimetype": "application/julia",
   "name": "julia",
   "version": "1.8.2"
  },
  "orig_nbformat": 4
 },
 "nbformat": 4,
 "nbformat_minor": 2
}
